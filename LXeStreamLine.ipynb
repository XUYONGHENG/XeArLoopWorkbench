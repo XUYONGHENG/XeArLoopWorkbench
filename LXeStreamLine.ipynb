{
 "cells": [
  {
   "cell_type": "code",
   "execution_count": 2,
   "metadata": {},
   "outputs": [],
   "source": [
    "import os \n",
    "import sys \n",
    "sys.path.append('../lznestpy')\n",
    "\n",
    "import nestpy\n",
    "from random import choices\n",
    "from nestUtils import *\n",
    "\n",
    "import matplotlib.pyplot as plt\n",
    "import numpy as np\n",
    "\n",
    "from LXeSimulation import *\n",
    "\n"
   ]
  },
  {
   "cell_type": "code",
   "execution_count": 7,
   "metadata": {},
   "outputs": [],
   "source": [
    "def simulate_LXe_NEST(EventRateFile, nEvents, g1, g2):\n",
    "    trueEventRate = np.loadtxt(EventRateFile, skiprows=0,delimiter=',')\n",
    "    if trueEventRate.shape[0] >= 1500:\n",
    "        trueEventRate = trueEventRate[:1000,:]\n",
    "    reco_energies, S1s, spikes, S2s, weights = simulate_LXe(EventRateFile, nEvents, g1, g2)\n",
    "    cutMask = (S1s >= 3) & (S1s <= 80) & (spikes >= 3)\n",
    "    return reco_energies[cutMask], weights[cutMask], S1s[cutMask], S2s[cutMask]\n",
    "\n",
    "\n",
    "def significance(signalRate, bkgRate, exposure):\n",
    "    return signalRate * exposure / np.sqrt(bkgRate*exposure)\n",
    "\n",
    "\n",
    "def findXenonSingalRate(eventRateFile, g1, g2):\n",
    "    eventRate = np.loadtxt(eventRateFile, skiprows=0,delimiter=',')\n",
    "    energy, weight, S1, S2 = simulate_LXe_NEST(eventRateFile, 1000000, g1, g2)\n",
    "    hist, edges = np.histogram(energy, bins=np.arange(0, 100), weights=4*0.9*weight)\n",
    "    total_rate = np.sum(hist)\n",
    "    return total_rate, hist, edges\n",
    "\n",
    "\n",
    "def findXenonModelSignificance(eventRateFile, g1=0.114, g2=47.1, exposure=15.3):\n",
    "    total_rate, hist, edges = findXenonSingalRate(eventRateFile, g1, g2)\n",
    "    return significance(total_rate, 11*0.05, exposure)\n",
    "\n",
    "\n",
    "\n",
    "\n",
    "\n",
    "\n",
    "\n",
    "\n"
   ]
  },
  {
   "cell_type": "code",
   "execution_count": 9,
   "metadata": {},
   "outputs": [
    {
     "name": "stdout",
     "output_type": "stream",
     "text": [
      "4.919326480309632\n"
     ]
    }
   ],
   "source": [
    "print(findXenonModelSignificance(\"/Users/yxu/workbenches/XeArLoopworkbench/EventRatesMMA/Xenon/Xe50zTable.csv\", 0.114, 47.1, 0.9 ))"
   ]
  }
 ],
 "metadata": {
  "kernelspec": {
   "display_name": "lar",
   "language": "python",
   "name": "python3"
  },
  "language_info": {
   "codemirror_mode": {
    "name": "ipython",
    "version": 3
   },
   "file_extension": ".py",
   "mimetype": "text/x-python",
   "name": "python",
   "nbconvert_exporter": "python",
   "pygments_lexer": "ipython3",
   "version": "3.11.9"
  }
 },
 "nbformat": 4,
 "nbformat_minor": 2
}
