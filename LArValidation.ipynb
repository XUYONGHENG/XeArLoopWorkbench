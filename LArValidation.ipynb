{
 "cells": [
  {
   "cell_type": "code",
   "execution_count": 1,
   "metadata": {},
   "outputs": [],
   "source": [
    "import sys \n",
    "sys.path.append('../lznestpy')\n",
    "\n",
    "import nestpy\n",
    "from random import choices\n",
    "from nestUtils import *\n",
    "\n",
    "import matplotlib.pyplot as plt\n",
    "import numpy as np\n",
    "\n",
    "from LXeSimulation import *\n",
    "from LArSimulation import *\n",
    "\n",
    "import numpy as np\n",
    "\n",
    "nEvents = 1000000"
   ]
  }
 ],
 "metadata": {
  "kernelspec": {
   "display_name": "lar",
   "language": "python",
   "name": "python3"
  },
  "language_info": {
   "codemirror_mode": {
    "name": "ipython",
    "version": 3
   },
   "file_extension": ".py",
   "mimetype": "text/x-python",
   "name": "python",
   "nbconvert_exporter": "python",
   "pygments_lexer": "ipython3",
   "version": "3.11.9"
  }
 },
 "nbformat": 4,
 "nbformat_minor": 2
}
