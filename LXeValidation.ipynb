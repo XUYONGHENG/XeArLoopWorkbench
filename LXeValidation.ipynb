{
 "cells": [
  {
   "cell_type": "code",
   "execution_count": 1,
   "metadata": {},
   "outputs": [],
   "source": [
    "import os \n",
    "import sys \n",
    "sys.path.append('../lznestpy')\n",
    "\n",
    "import nestpy\n",
    "from random import choices\n",
    "from nestUtils import *\n",
    "\n",
    "import matplotlib.pyplot as plt\n",
    "import numpy as np\n",
    "\n",
    "from LXeSimulation import *\n",
    "\n"
   ]
  },
  {
   "cell_type": "code",
   "execution_count": 2,
   "metadata": {},
   "outputs": [],
   "source": [
    "def simulate_LXe_NEST(EventRateFile, nEvents, g1, g2):\n",
    "    trueEventRate = np.loadtxt(EventRateFile, skiprows=0,delimiter=',')\n",
    "    if trueEventRate.shape[0] >= 1500:\n",
    "        trueEventRate = trueEventRate[:1000,:]\n",
    "    reco_energies, S1s, spikes, S2s, weights = simulate_LXe(EventRateFile, nEvents, g1, g2)\n",
    "    cutMask = (S1s >= 3) & (S1s <= 80) & (spikes >= 3)\n",
    "    return reco_energies[cutMask], weights[cutMask], S1s[cutMask], S2s[cutMask]\n",
    "\n",
    "\n",
    "def significance(signalRate, bkgRate, exposure):\n",
    "    return signalRate * exposure / np.sqrt(bkgRate*exposure)\n",
    "\n",
    "\n",
    "def findXenonSingalRate(eventRateFile, g1, g2):\n",
    "    eventRate = np.loadtxt(eventRateFile, skiprows=0,delimiter=',')\n",
    "    energy, weight, S1, S2 = simulate_LXe_NEST(eventRateFile, 1000000, g1, g2)\n",
    "    hist, edges = np.histogram(energy, bins=np.arange(0, 100), weights=0.9*weight)\n",
    "    total_rate = np.sum(hist)\n",
    "    return total_rate, hist, edges\n",
    "\n",
    "\n",
    "def findXenonModelSignificance(eventRateFile, bkgFile, g1=0.114, g2=47.1, exposure=15.3):\n",
    "    total_rate, hist, edges = findXenonSingalRate(eventRateFile, g1, g2)\n",
    "    bkgRates = np.loadtxt(bkgFile, skiprows=0,delimiter=',')\n",
    "    bkgRate = np.trapz(bkgRates[:,1], bkgRates[:,0])/0.9\n",
    "    return significance(total_rate, bkgRate*0.005, exposure)\n",
    "\n",
    "\n",
    "\n"
   ]
  },
  {
   "cell_type": "code",
   "execution_count": 3,
   "metadata": {},
   "outputs": [],
   "source": [
    "def findXenonSingalRate(eventRateFile, g1, g2):\n",
    "    eventRate = np.loadtxt(eventRateFile, skiprows=0,delimiter=',')\n",
    "    energy, weight, S1, S2 = simulate_LXe_NEST(eventRateFile, 1000000, g1, g2)\n",
    "    hist, edges = np.histogram(energy, bins=np.arange(0, 100), weights=0.9*weight)\n",
    "    total_rate = np.sum(hist)\n",
    "    print(\"Event rate after NEST: \", total_rate)\n",
    "    print(\"Input event rate: \", np.trapz(eventRate[:,1], eventRate[:,0]))\n",
    "    return total_rate, hist, edges\n"
   ]
  },
  {
   "cell_type": "code",
   "execution_count": 7,
   "metadata": {},
   "outputs": [
    {
     "name": "stdout",
     "output_type": "stream",
     "text": [
      "1.853434719963723\n"
     ]
    }
   ],
   "source": [
    "LZ_SR1_bkg = np.loadtxt(\"/Users/yxu/workbenches/XeArLoopworkbench/LZSR1_bkg_total.txt\", skiprows=0,delimiter=',')\n",
    "print(0.005*np.trapz(LZ_SR1_bkg[:,1], LZ_SR1_bkg[:,0])/0.9)"
   ]
  },
  {
   "cell_type": "code",
   "execution_count": 4,
   "metadata": {},
   "outputs": [
    {
     "name": "stdout",
     "output_type": "stream",
     "text": [
      "Event rate after NEST:  0.010747134442788915\n",
      "Input event rate:  0.0182570214719019\n"
     ]
    },
    {
     "data": {
      "text/plain": [
       "(0.010747134442788915,\n",
       " array([9.29486872e-04, 3.67913671e-03, 2.30812386e-03, 1.44534814e-03,\n",
       "        9.11018069e-04, 5.71284110e-04, 3.65186072e-04, 2.23564531e-04,\n",
       "        1.37940926e-04, 8.89098689e-05, 5.31060241e-05, 3.07101358e-05,\n",
       "        3.31912650e-06, 0.00000000e+00, 0.00000000e+00, 0.00000000e+00,\n",
       "        0.00000000e+00, 0.00000000e+00, 0.00000000e+00, 0.00000000e+00,\n",
       "        0.00000000e+00, 0.00000000e+00, 0.00000000e+00, 0.00000000e+00,\n",
       "        0.00000000e+00, 0.00000000e+00, 0.00000000e+00, 0.00000000e+00,\n",
       "        0.00000000e+00, 0.00000000e+00, 0.00000000e+00, 0.00000000e+00,\n",
       "        0.00000000e+00, 0.00000000e+00, 0.00000000e+00, 0.00000000e+00,\n",
       "        0.00000000e+00, 0.00000000e+00, 0.00000000e+00, 0.00000000e+00,\n",
       "        0.00000000e+00, 0.00000000e+00, 0.00000000e+00, 0.00000000e+00,\n",
       "        0.00000000e+00, 0.00000000e+00, 0.00000000e+00, 0.00000000e+00,\n",
       "        0.00000000e+00, 0.00000000e+00, 0.00000000e+00, 0.00000000e+00,\n",
       "        0.00000000e+00, 0.00000000e+00, 0.00000000e+00, 0.00000000e+00,\n",
       "        0.00000000e+00, 0.00000000e+00, 0.00000000e+00, 0.00000000e+00,\n",
       "        0.00000000e+00, 0.00000000e+00, 0.00000000e+00, 0.00000000e+00,\n",
       "        0.00000000e+00, 0.00000000e+00, 0.00000000e+00, 0.00000000e+00,\n",
       "        0.00000000e+00, 0.00000000e+00, 0.00000000e+00, 0.00000000e+00,\n",
       "        0.00000000e+00, 0.00000000e+00, 0.00000000e+00, 0.00000000e+00,\n",
       "        0.00000000e+00, 0.00000000e+00, 0.00000000e+00, 0.00000000e+00,\n",
       "        0.00000000e+00, 0.00000000e+00, 0.00000000e+00, 0.00000000e+00,\n",
       "        0.00000000e+00, 0.00000000e+00, 0.00000000e+00, 0.00000000e+00,\n",
       "        0.00000000e+00, 0.00000000e+00, 0.00000000e+00, 0.00000000e+00,\n",
       "        0.00000000e+00, 0.00000000e+00, 0.00000000e+00, 0.00000000e+00,\n",
       "        0.00000000e+00, 0.00000000e+00, 0.00000000e+00]),\n",
       " array([ 0,  1,  2,  3,  4,  5,  6,  7,  8,  9, 10, 11, 12, 13, 14, 15, 16,\n",
       "        17, 18, 19, 20, 21, 22, 23, 24, 25, 26, 27, 28, 29, 30, 31, 32, 33,\n",
       "        34, 35, 36, 37, 38, 39, 40, 41, 42, 43, 44, 45, 46, 47, 48, 49, 50,\n",
       "        51, 52, 53, 54, 55, 56, 57, 58, 59, 60, 61, 62, 63, 64, 65, 66, 67,\n",
       "        68, 69, 70, 71, 72, 73, 74, 75, 76, 77, 78, 79, 80, 81, 82, 83, 84,\n",
       "        85, 86, 87, 88, 89, 90, 91, 92, 93, 94, 95, 96, 97, 98, 99]))"
      ]
     },
     "execution_count": 4,
     "metadata": {},
     "output_type": "execute_result"
    }
   ],
   "source": [
    "findXenonSingalRate(\"/Users/yxu/workbenches/XeArLoopworkbench/EventRatesMMA/Xenon/XXe50plTable.csv\", 0.114, 47.1)"
   ]
  }
 ],
 "metadata": {
  "kernelspec": {
   "display_name": "lar",
   "language": "python",
   "name": "python3"
  },
  "language_info": {
   "codemirror_mode": {
    "name": "ipython",
    "version": 3
   },
   "file_extension": ".py",
   "mimetype": "text/x-python",
   "name": "python",
   "nbconvert_exporter": "python",
   "pygments_lexer": "ipython3",
   "version": "3.11.9"
  }
 },
 "nbformat": 4,
 "nbformat_minor": 2
}
